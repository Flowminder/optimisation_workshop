{
 "cells": [
  {
   "cell_type": "markdown",
   "id": "74f9e3b8-7c72-413d-afde-9ed139c0c32c",
   "metadata": {},
   "source": [
    "<img src=\"img/f_blue@2x.png\" width=\"15%\" align=\"left\"/>\n",
    "\n",
    "<br></br>\n",
    "\n",
    "# Data driven decision making using a rapid optimal service placement solution\n",
    "---\n",
    "*26 April 2022* \\\n",
    "**Author**: Alistair Steward \\@ Flowminder foundation\n",
    "\n",
    "<br></br>\n",
    "\n",
    "XXXX\n",
    "\n",
    "**The problem:** XXXX\n"
   ]
  },
  {
   "cell_type": "markdown",
   "id": "aa5b5b3d-2605-4b63-926e-baa4efdba4db",
   "metadata": {},
   "source": [
    "# rewrite\n",
    "\n",
    "\n",
    "## Getting started\n",
    "---\n",
    "### Exercise Overview\n",
    "---\n",
    "Using geospatial analysis in Python, this demo will show an assessment of health facility coverage for maternal health using the GRID3 population data for Kaduna State.\n",
    "\n",
    "In this exercise we are going to:\n",
    "\n",
    "- Load some spatial data\n",
    "- Subset the data to focus on points of interest\n",
    "- Aggregate dataset using some basic geospatial techniques\n",
    "- Try and identify connections between datasets to set targets"
   ]
  },
  {
   "cell_type": "markdown",
   "id": "da436e2b-e148-4614-8347-5e5cc4f7fdb6",
   "metadata": {},
   "source": [
    "### Loading Packages\n",
    "---"
   ]
  },
  {
   "cell_type": "code",
   "execution_count": 1,
   "id": "98844cb5-461a-4168-9c9a-3395c81da4fd",
   "metadata": {},
   "outputs": [],
   "source": [
    "# General purpose libraries.\n",
    "import pandas as pd\n",
    "import os\n",
    "import numpy as np\n",
    "\n",
    "# Geospatial libraries.\n",
    "import geopandas as gpd\n",
    "import rioxarray\n",
    "import rasterio\n",
    "from rasterio.plot import show\n",
    "# Voronoi and Zonal statistics libraries\n",
    "from rasterstats import zonal_stats\n",
    "\n",
    "# Visualization libraries.\n",
    "from IPython.display import display\n",
    "from matplotlib import pyplot as plt\n",
    "import matplotlib.colors as mcolors\n",
    "import leafmap"
   ]
  },
  {
   "cell_type": "code",
   "execution_count": null,
   "id": "d15d5328-16b0-4148-9de9-7bf6984616a5",
   "metadata": {},
   "outputs": [],
   "source": [
    "# notes\n",
    "#Kaduna total: 10847178.027184606\n",
    "#Kaduna new sites: 6562328.11129499\n",
    "#Kaduna existing sites: 4284850"
   ]
  },
  {
   "cell_type": "markdown",
   "id": "77d4f082-e09b-41a1-91d2-d4ece5907e9b",
   "metadata": {},
   "source": [
    "### Loading Datasets\n",
    "We have four datasets used in this example:\n",
    "\n",
    "These datasets can be obtained from the GRID3 Nigeria Data portal at https://grid3.gov.ng/\n",
    "\n",
    ">- [**Health facility locations**](https://grid3.gov.ng/dataset/kaduna-health-care-facilities-primary-secondary-and-tertiary/resources)\n",
    ">- [**Ward boundaries**](https://grid3.gov.ng/dataset/kaduna-operational-ward-boundaries)\n",
    ">- [**Gridded population**](https://grid3.gov.ng/dataset/national-population-estimates/resources)\\\n",
    "We provide an already prepared dataset with women aged 15-49 for Kaduna State\n",
    ">- [**State boundary**](https://grid3.gov.ng/dataset/kaduna-state-administrative-boundaries)\n"
   ]
  },
  {
   "cell_type": "code",
   "execution_count": 2,
   "id": "f200b611-a897-40dc-a7ce-cb2c5907e5a7",
   "metadata": {},
   "outputs": [],
   "source": [
    "# Path for the data folder\n",
    "data_path = os.path.join(os.getcwd(), 'data')\n",
    "\n",
    "# Load population\n",
    "population = rioxarray.open_rasterio(data_path + '/kaduna_population.tif')\n",
    "\n",
    "# Load boundaries\n",
    "kaduna_boundary = gpd.read_file(data_path + '/kaduna_boundary.geojson')\n",
    "\n",
    "# Load existing healthcare facilities\n",
    "kaduna_existing_sites = gpd.read_file(data_path + '/kaduna_existing_sites.geojson')"
   ]
  },
  {
   "cell_type": "code",
   "execution_count": 13,
   "id": "1fef6bd9-dcef-45a2-b262-2121f6a26b32",
   "metadata": {},
   "outputs": [],
   "source": [
    "#population.values  = population.values.where(population.values > 0, np.nan)\n",
    "\n"
   ]
  },
  {
   "cell_type": "markdown",
   "id": "90c1e68e-8019-4e03-85e2-326d520cfd28",
   "metadata": {},
   "source": [
    "### Existing coverage"
   ]
  },
  {
   "cell_type": "code",
   "execution_count": 3,
   "id": "247fb7d8-b6fc-4449-9288-d7077b9dc540",
   "metadata": {},
   "outputs": [
    {
     "data": {
      "application/vnd.jupyter.widget-view+json": {
       "model_id": "95403226181f430fb7f3f798dcc1b19b",
       "version_major": 2,
       "version_minor": 0
      },
      "text/plain": [
       "Map(center=[10.48650018, 7.42406665], controls=(ZoomControl(options=['position', 'zoom_in_text', 'zoom_in_titl…"
      ]
     },
     "metadata": {},
     "output_type": "display_data"
    }
   ],
   "source": [
    "m = leafmap.Map(center=(10.48650018, 7.42406665), \n",
    "                zoom=8,\n",
    "                draw_control=False,\n",
    "                measure_control=False,\n",
    "                fullscreen_control=False,\n",
    "                attribution_control=True,)\n",
    "\n",
    "m.add_basemap('CartoDB.Positron')\n",
    "\n",
    "m.add_gdf(kaduna_boundary, \n",
    "          layer_name = 'Kaduna boundary', \n",
    "          style ={'fillColor': 'none', \n",
    "                  'color': '#CBA45A',\n",
    "                  'weight': 1})\n",
    "\n",
    "m.add_circle_markers_from_xy(kaduna_existing_sites, \n",
    "                             layer_name = 'Kaduna existing sites',\n",
    "                             x='longitude', y='latitude', \n",
    "                             radius=1, color='#BF6799', fill_color='#BF6799')\n",
    "\n",
    "#m.add_raster(data_path + '/kaduna_population.tif', colormap='terrain', layer_name='DEM')\n",
    "\n",
    "m"
   ]
  },
  {
   "cell_type": "code",
   "execution_count": null,
   "id": "3104f64b-cfdc-4709-9d3c-92738af3865f",
   "metadata": {},
   "outputs": [],
   "source": [
    "# map existing health facilities and population for whole country"
   ]
  },
  {
   "cell_type": "code",
   "execution_count": null,
   "id": "23c80547-dedb-4ec2-88f0-74aa5af80050",
   "metadata": {},
   "outputs": [],
   "source": [
    "# add new sites (100% coverage)"
   ]
  },
  {
   "cell_type": "code",
   "execution_count": null,
   "id": "19fe1deb-a5d2-48d9-a6ea-a1b65f527bd7",
   "metadata": {},
   "outputs": [],
   "source": [
    "# coverage curve"
   ]
  },
  {
   "cell_type": "code",
   "execution_count": null,
   "id": "520e63df-6632-4b6e-9549-d0d7605ffa88",
   "metadata": {},
   "outputs": [],
   "source": [
    "# choose some thresholds"
   ]
  },
  {
   "cell_type": "code",
   "execution_count": null,
   "id": "95dff32a-0086-4fa0-814a-570763c205d8",
   "metadata": {},
   "outputs": [],
   "source": [
    "# map new sites with priority levels (focus on one area?)"
   ]
  }
 ],
 "metadata": {
  "kernelspec": {
   "display_name": "Python 3 (ipykernel)",
   "language": "python",
   "name": "python3"
  },
  "language_info": {
   "codemirror_mode": {
    "name": "ipython",
    "version": 3
   },
   "file_extension": ".py",
   "mimetype": "text/x-python",
   "name": "python",
   "nbconvert_exporter": "python",
   "pygments_lexer": "ipython3",
   "version": "3.10.6"
  }
 },
 "nbformat": 4,
 "nbformat_minor": 5
}
