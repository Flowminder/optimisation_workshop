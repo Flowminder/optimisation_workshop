{
 "cells": [
  {
   "cell_type": "markdown",
   "id": "74f9e3b8-7c72-413d-afde-9ed139c0c32c",
   "metadata": {},
   "source": [
    "<img src=\"img/f_blue@2x.png\" width=\"15%\" align=\"left\"/>\n",
    "\n",
    "<br></br>\n",
    "\n",
    "# Data driven decision making using a rapid optimal service placement solution\n",
    "---\n",
    "*26 April 2023* \\\n",
    "**Author**: Alistair Steward \\@ Flowminder foundation\n",
    "\n",
    "<br></br>\n",
    "\n",
    "XXXX\n",
    "\n",
    "**The problem:** XXXX\n"
   ]
  },
  {
   "cell_type": "markdown",
   "id": "aa5b5b3d-2605-4b63-926e-baa4efdba4db",
   "metadata": {},
   "source": [
    "# rewrite\n",
    "\n",
    "\n",
    "## Getting started\n",
    "---\n",
    "### Exercise Overview\n",
    "---\n",
    "Using geospatial analysis in Python, this demo will show an assessment of health facility coverage for maternal health using the GRID3 population data for Kaduna State.\n",
    "\n",
    "In this exercise we are going to:\n",
    "\n",
    "- Load some spatial data\n",
    "- Subset the data to focus on points of interest\n",
    "- Aggregate dataset using some basic geospatial techniques\n",
    "- Try and identify connections between datasets to set targets"
   ]
  },
  {
   "cell_type": "markdown",
   "id": "da436e2b-e148-4614-8347-5e5cc4f7fdb6",
   "metadata": {},
   "source": [
    "### Loading Packages\n",
    "---"
   ]
  },
  {
   "cell_type": "code",
   "execution_count": 1,
   "id": "98844cb5-461a-4168-9c9a-3395c81da4fd",
   "metadata": {
    "tags": []
   },
   "outputs": [],
   "source": [
    "# Set host forwarding for MyBinder\n",
    "import os\n",
    "if \"JUPYTERHUB_SERVICE_PREFIX\" in os.environ:\n",
    "    os.environ['LOCALTILESERVER_CLIENT_PREFIX'] = f\"{os.environ['JUPYTERHUB_SERVICE_PREFIX']}/proxy/{{port}}\"\n",
    "\n",
    "# General purpose libraries.\n",
    "import pandas as pd\n",
    "import os\n",
    "import numpy as np\n",
    "\n",
    "# Geospatial libraries.\n",
    "import geopandas as gpd\n",
    "import rioxarray\n",
    "import rasterio\n",
    "from rasterio.plot import show\n",
    "\n",
    "# Visualisation libraries\n",
    "import matplotlib\n",
    "import leafmap"
   ]
  },
  {
   "cell_type": "markdown",
   "id": "77d4f082-e09b-41a1-91d2-d4ece5907e9b",
   "metadata": {},
   "source": [
    "### Loading Datasets\n",
    "We start with three datasets:\n",
    "\n",
    "These datasets can be obtained from the GRID3 Nigeria Data portal at https://grid3.gov.ng/\n",
    "\n",
    ">- [**Health facility locations**](https://grid3.gov.ng/dataset/kaduna-health-care-facilities-primary-secondary-and-tertiary/resources)\n",
    ">- [**Gridded population**](https://grid3.gov.ng/dataset/national-population-estimates/resources)\\\n",
    "This raster has been clipped to Kaduna.\n",
    ">- [**Kaduna state boundary**](https://grid3.gov.ng/dataset/kaduna-state-administrative-boundaries)\n"
   ]
  },
  {
   "cell_type": "code",
   "execution_count": 3,
   "id": "f200b611-a897-40dc-a7ce-cb2c5907e5a7",
   "metadata": {
    "tags": []
   },
   "outputs": [],
   "source": [
    "# Path for the data folder\n",
    "data_path = os.path.join(os.getcwd(), 'data')\n",
    "\n",
    "# Load population\n",
    "population = rioxarray.open_rasterio(data_path + '/kaduna_population.tif')\n",
    "\n",
    "# Load boundaries\n",
    "kaduna_boundary = gpd.read_file(data_path + '/kaduna_boundary.geojson')\n",
    "\n",
    "# Load existing healthcare facilities\n",
    "kaduna_existing_sites = gpd.read_file(data_path + '/kaduna_existing_sites.geojson')"
   ]
  },
  {
   "cell_type": "markdown",
   "id": "9a710649-7b00-45b6-9271-812bf1992340",
   "metadata": {},
   "source": [
    "### Mapping our data\n",
    "\n",
    "Before we begin our analysis, let's take a look at our data by plotting it on an interactive Leaflet map.\n",
    "\n",
    "Run the cell below and explore the map in the output panel. Is there a pattern to the distribution of existing sites? Can you identify areas with good access and areas with poor access to existing sites?"
   ]
  },
  {
   "cell_type": "code",
   "execution_count": 5,
   "id": "247fb7d8-b6fc-4449-9288-d7077b9dc540",
   "metadata": {
    "tags": []
   },
   "outputs": [
    {
     "data": {
      "application/vnd.jupyter.widget-view+json": {
       "model_id": "5fed67524f0c4797ad6c7da8ae051e2e",
       "version_major": 2,
       "version_minor": 0
      },
      "text/plain": [
       "Map(center=[10.48650018, 7.42406665], controls=(AttributionControl(options=['position', 'prefix'], position='b…"
      ]
     },
     "metadata": {},
     "output_type": "display_data"
    }
   ],
   "source": [
    "### create map showing our core input data layers\n",
    "\n",
    "# build initial version of the map\n",
    "my_map = leafmap.Map(center=(10.48650018, 7.42406665), \n",
    "                     zoom=8,\n",
    "                     draw_control=False,\n",
    "                     measure_control=False,\n",
    "                     fullscreen_control=False,\n",
    "                     attribution_control=True,)\n",
    "\n",
    "# add basemap\n",
    "my_map.add_basemap('CartoDB.Positron')\n",
    "\n",
    "# add boundary to map\n",
    "my_map.add_gdf(kaduna_boundary, \n",
    "          layer_name = 'Kaduna boundary', \n",
    "          style ={'fillColor': 'none', \n",
    "                  'color': '#CBA45A',\n",
    "                  'weight': 1})\n",
    "\n",
    "# add the existing sites\n",
    "my_map.add_circle_markers_from_xy(kaduna_existing_sites, \n",
    "                             layer_name = 'Kaduna existing sites',\n",
    "                             x='longitude', y='latitude', \n",
    "                             radius=1, color='#BF6799', fill_color='#BF6799')\n",
    "\n",
    "# add the population raster\n",
    "my_map.add_raster(data_path + '/kaduna_population.tif', colormap='terrain', layer_name='Kaduna population')\n",
    "\n",
    "# display map\n",
    "my_map"
   ]
  },
  {
   "cell_type": "markdown",
   "id": "90c1e68e-8019-4e03-85e2-326d520cfd28",
   "metadata": {
    "tags": []
   },
   "source": [
    "## Existing coverage\n",
    "\n",
    "The first thing we want to understand is the proportion of people that live within the service areas of existing healthcare infrastructure. To do this we will buffer \n",
    "\n",
    "### \n"
   ]
  },
  {
   "cell_type": "markdown",
   "id": "b2889b2f-49f6-4fa7-a07a-62fa97945cbc",
   "metadata": {},
   "source": [
    "## Suggested new sites\n",
    "\n",
    "Flowminder's optimisation algorithm uses population density to produce the recommended locations for new sites, in rank order, cover 100% of the population inside the specified boundary (in this case, for Kaduna state). \n",
    "\n",
    "Let's load the results from the algorithm and add them to our map to see a total coverage solution."
   ]
  },
  {
   "cell_type": "code",
   "execution_count": 7,
   "id": "0077af52-de59-4e39-9bc2-7a6feef62a21",
   "metadata": {
    "tags": []
   },
   "outputs": [],
   "source": [
    "# Load new sites\n",
    "kaduna_new_sites = pd.read_csv(data_path + '/NGA_Kaduna_optimised_sites.csv')"
   ]
  },
  {
   "cell_type": "code",
   "execution_count": 8,
   "id": "1c1f17bf-7d65-4176-b553-d1d8b0dd9412",
   "metadata": {
    "tags": []
   },
   "outputs": [
    {
     "data": {
      "application/vnd.jupyter.widget-view+json": {
       "model_id": "5fed67524f0c4797ad6c7da8ae051e2e",
       "version_major": 2,
       "version_minor": 0
      },
      "text/plain": [
       "Map(bottom=62048.0, center=[10.347343930125362, 7.631378173828126], controls=(AttributionControl(options=['pos…"
      ]
     },
     "metadata": {},
     "output_type": "display_data"
    }
   ],
   "source": [
    "my_map.add_circle_markers_from_xy(kaduna_new_sites, \n",
    "                             layer_name = 'Kaduna new sites',\n",
    "                             x='longitude', y='latitude', \n",
    "                             radius=1, color='#034174', fill_color='#034174')\n",
    "\n",
    "my_map"
   ]
  },
  {
   "cell_type": "code",
   "execution_count": null,
   "id": "7b875ace-9bff-47ce-9788-5ca4c48d665f",
   "metadata": {},
   "outputs": [],
   "source": [
    "### create map showing our core input data layers\n",
    "\n",
    "# build initial version of the map\n",
    "my_map = leafmap.Map(center=(10.48650018, 7.42406665), \n",
    "                     zoom=8,\n",
    "                     draw_control=False,\n",
    "                     measure_control=False,\n",
    "                     fullscreen_control=False,\n",
    "                     attribution_control=True,)\n",
    "\n",
    "# add basemap\n",
    "my_map.add_basemap('CartoDB.Positron')\n",
    "\n",
    "# add boundary to map\n",
    "my_map.add_gdf(kaduna_boundary, \n",
    "          layer_name = 'Kaduna boundary', \n",
    "          style ={'fillColor': 'none', \n",
    "                  'color': '#CBA45A',\n",
    "                  'weight': 1})\n",
    "\n",
    "# add the existing sites\n",
    "my_map.add_circle_markers_from_xy(kaduna_existing_sites, \n",
    "                             layer_name = 'Kaduna existing sites',\n",
    "                             x='longitude', y='latitude', \n",
    "                             radius=1, color='#BF6799', fill_color='#BF6799')\n",
    "\n",
    "# add the population raster\n",
    "my_map.add_raster(data_path + '/kaduna_population.tif', colormap='terrain', layer_name='Kaduna population')\n",
    "\n",
    "# display map\n",
    "my_map"
   ]
  },
  {
   "cell_type": "code",
   "execution_count": null,
   "id": "19fe1deb-a5d2-48d9-a6ea-a1b65f527bd7",
   "metadata": {},
   "outputs": [],
   "source": [
    "# coverage curve"
   ]
  },
  {
   "cell_type": "code",
   "execution_count": null,
   "id": "520e63df-6632-4b6e-9549-d0d7605ffa88",
   "metadata": {},
   "outputs": [],
   "source": [
    "# choose some thresholds"
   ]
  },
  {
   "cell_type": "code",
   "execution_count": null,
   "id": "95dff32a-0086-4fa0-814a-570763c205d8",
   "metadata": {},
   "outputs": [],
   "source": [
    "# map new sites with priority levels (focus on one area?)"
   ]
  },
  {
   "cell_type": "code",
   "execution_count": null,
   "id": "b09e5fa5-d713-413a-a0ec-9f0a1e04d91b",
   "metadata": {},
   "outputs": [],
   "source": [
    "# outreach or mobile strategy"
   ]
  }
 ],
 "metadata": {
  "kernelspec": {
   "display_name": "Python 3 (ipykernel)",
   "language": "python",
   "name": "python3"
  },
  "language_info": {
   "codemirror_mode": {
    "name": "ipython",
    "version": 3
   },
   "file_extension": ".py",
   "mimetype": "text/x-python",
   "name": "python",
   "nbconvert_exporter": "python",
   "pygments_lexer": "ipython3",
   "version": "3.10.10"
  },
  "vscode": {
   "interpreter": {
    "hash": "eb0aa0aa1534125acc602781efbfbbcc2bd7b1c550d1db2d3336d58cbc692390"
   }
  }
 },
 "nbformat": 4,
 "nbformat_minor": 5
}
