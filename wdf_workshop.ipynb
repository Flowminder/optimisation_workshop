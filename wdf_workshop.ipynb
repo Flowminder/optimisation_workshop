{
 "cells": [
  {
   "cell_type": "markdown",
   "id": "74f9e3b8-7c72-413d-afde-9ed139c0c32c",
   "metadata": {},
   "source": [
    "<img src=\"img/f_blue@2x.png\" width=\"15%\" align=\"left\"/>\n",
    "\n",
    "<br></br>\n",
    "\n",
    "# Data driven decision making using a rapid optimal service placement solution\n",
    "---\n",
    "*26 April 2022* \\\n",
    "**Author**: Alistair Steward \\@ Flowminder foundation\n",
    "\n",
    "<br></br>\n",
    "\n",
    "XXXX\n",
    "\n",
    "**The problem:** XXXX\n"
   ]
  },
  {
   "cell_type": "markdown",
   "id": "aa5b5b3d-2605-4b63-926e-baa4efdba4db",
   "metadata": {},
   "source": [
    "# rewrite\n",
    "\n",
    "\n",
    "## Getting started\n",
    "---\n",
    "### Exercise Overview\n",
    "---\n",
    "Using geospatial analysis in Python, this demo will show an assessment of health facility coverage for maternal health using the GRID3 population data for Kaduna State.\n",
    "\n",
    "In this exercise we are going to:\n",
    "\n",
    "- Load some spatial data\n",
    "- Subset the data to focus on points of interest\n",
    "- Aggregate dataset using some basic geospatial techniques\n",
    "- Try and identify connections between datasets to set targets"
   ]
  },
  {
   "cell_type": "markdown",
   "id": "da436e2b-e148-4614-8347-5e5cc4f7fdb6",
   "metadata": {},
   "source": [
    "### Loading Packages\n",
    "---"
   ]
  },
  {
   "cell_type": "code",
   "execution_count": 2,
   "id": "98844cb5-461a-4168-9c9a-3395c81da4fd",
   "metadata": {},
   "outputs": [],
   "source": [
    "# General purpose libraries.\n",
    "import pandas as pd\n",
    "import os\n",
    "import numpy as np\n",
    "\n",
    "# Geospatial libraries.\n",
    "import geopandas as gpd\n",
    "import rioxarray\n",
    "import rasterio\n",
    "from rasterio.plot import show\n",
    "import folium\n",
    "# Voronoi and Zonal statistics libraries\n",
    "from rasterstats import zonal_stats\n",
    "\n",
    "# Visualization libraries.\n",
    "from IPython.display import display\n",
    "from matplotlib import pyplot as plt\n",
    "import matplotlib.colors as mcolors"
   ]
  },
  {
   "cell_type": "markdown",
   "id": "77d4f082-e09b-41a1-91d2-d4ece5907e9b",
   "metadata": {},
   "source": [
    "### Loading Datasets\n",
    "We have four datasets used in this example:\n",
    "\n",
    "These datasets can be obtained from the GRID3 Nigeria Data portal at https://grid3.gov.ng/\n",
    "\n",
    ">- [**Health facility locations**](https://grid3.gov.ng/dataset/kaduna-health-care-facilities-primary-secondary-and-tertiary/resources)\n",
    ">- [**Ward boundaries**](https://grid3.gov.ng/dataset/kaduna-operational-ward-boundaries)\n",
    ">- [**Gridded population**](https://grid3.gov.ng/dataset/national-population-estimates/resources)\\\n",
    "We provide an already prepared dataset with women aged 15-49 for Kaduna State\n",
    ">- [**State boundary**](https://grid3.gov.ng/dataset/kaduna-state-administrative-boundaries)\n"
   ]
  },
  {
   "cell_type": "code",
   "execution_count": null,
   "id": "f200b611-a897-40dc-a7ce-cb2c5907e5a7",
   "metadata": {},
   "outputs": [],
   "source": [
    "# Path for the data folder\n",
    "data_path = os.path.join(os.getcwd(), 'data')\n",
    "\n",
    "# Path to population\n",
    "population_u5 =  rioxarray.open_rasterio(os.path.join(data_path, str('SOM_WPP_2021_population_u5_20230207.tif')))\n",
    "\n",
    "# Below, we directly open the different shapefiles datasets with geopandas:\n",
    "# 1- Health facilities\n",
    "#health_care = geopandas.read_file(\n",
    " #   data_path +\n",
    "  #  \"/health-care-facilities-primary-secondary-and-tertiary.geojson\")\n",
    "# 2- State boundaries\n",
    "#state_boundary = geopandas.read_file(\n",
    " #   data_path + \"/state-administrative-boundaries.geojson\")\n",
    "# 3- Wards boundaries\n",
    "#wards = geopandas.read_file(data_path + \"/operational-ward-boundaries.geojson\")"
   ]
  },
  {
   "cell_type": "code",
   "execution_count": null,
   "id": "3104f64b-cfdc-4709-9d3c-92738af3865f",
   "metadata": {},
   "outputs": [],
   "source": [
    "# map existing health facilities and population for whole country"
   ]
  },
  {
   "cell_type": "code",
   "execution_count": null,
   "id": "23c80547-dedb-4ec2-88f0-74aa5af80050",
   "metadata": {},
   "outputs": [],
   "source": [
    "# add new sites (100% coverage)"
   ]
  },
  {
   "cell_type": "code",
   "execution_count": null,
   "id": "19fe1deb-a5d2-48d9-a6ea-a1b65f527bd7",
   "metadata": {},
   "outputs": [],
   "source": [
    "# coverage curve"
   ]
  },
  {
   "cell_type": "code",
   "execution_count": null,
   "id": "520e63df-6632-4b6e-9549-d0d7605ffa88",
   "metadata": {},
   "outputs": [],
   "source": [
    "# choose some thresholds"
   ]
  },
  {
   "cell_type": "code",
   "execution_count": null,
   "id": "95dff32a-0086-4fa0-814a-570763c205d8",
   "metadata": {},
   "outputs": [],
   "source": [
    "# map new sites with priority levels (focus on one area?)"
   ]
  }
 ],
 "metadata": {
  "kernelspec": {
   "display_name": "Python 3 (ipykernel)",
   "language": "python",
   "name": "python3"
  },
  "language_info": {
   "codemirror_mode": {
    "name": "ipython",
    "version": 3
   },
   "file_extension": ".py",
   "mimetype": "text/x-python",
   "name": "python",
   "nbconvert_exporter": "python",
   "pygments_lexer": "ipython3",
   "version": "3.10.4"
  }
 },
 "nbformat": 4,
 "nbformat_minor": 5
}
